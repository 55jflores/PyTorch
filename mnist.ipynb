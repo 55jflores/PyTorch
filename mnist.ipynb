{
 "cells": [
  {
   "cell_type": "code",
   "execution_count": 1,
   "id": "458878c8",
   "metadata": {},
   "outputs": [],
   "source": [
    "import torch\n",
    "import torch.nn as nn\n",
    "import torch.optim as optim\n",
    "import torch.nn.functional as F\n",
    "from torch.utils.data import DataLoader\n",
    "from torchvision import datasets, transforms\n",
    "import matplotlib.pyplot as plt"
   ]
  },
  {
   "cell_type": "code",
   "execution_count": 2,
   "id": "5d468047",
   "metadata": {},
   "outputs": [],
   "source": [
    "# Loading in CIFAR dataset\n",
    "transform = transforms.ToTensor()\n",
    "train_data = datasets.MNIST(root='./', train=True, download=True, transform=transform)\n",
    "test_data = datasets.MNIST(root='./', train=False, download=True, transform=transform)"
   ]
  },
  {
   "cell_type": "code",
   "execution_count": 3,
   "id": "6f722a79",
   "metadata": {},
   "outputs": [],
   "source": [
    "train_loader = DataLoader(train_data, batch_size=10, shuffle=True)\n",
    "test_loader = DataLoader(test_data, batch_size=10, shuffle=False)"
   ]
  },
  {
   "cell_type": "code",
   "execution_count": 4,
   "id": "ab3da050",
   "metadata": {},
   "outputs": [],
   "source": [
    "class mnistCNN(nn.Module):\n",
    "    def __init__(self):\n",
    "        super().__init__()\n",
    "        self.conv1 = nn.Conv2d(1,6,3,1)\n",
    "        self.conv2 = nn.Conv2d(6,16,3,1)\n",
    "        \n",
    "        self.fc1 = nn.Linear(5*5*16,120)\n",
    "        self.fc2 = nn.Linear(120,84)\n",
    "        self.fc3 = nn.Linear(84,10)\n",
    "        \n",
    "    def forward(self,X):\n",
    "        X = F.relu(self.conv1(X))\n",
    "        X = F.max_pool2d(X,2,2)\n",
    "        \n",
    "        X = F.relu(self.conv2(X))\n",
    "        X = F.max_pool2d(X,2,2)\n",
    "        \n",
    "        X = X.view(-1,5*5*16)\n",
    "        \n",
    "        X = F.relu(self.fc1(X))\n",
    "        X = F.relu(self.fc2(X))\n",
    "        \n",
    "        X = self.fc3(X)\n",
    "        \n",
    "        return F.log_softmax(X,dim=1)"
   ]
  },
  {
   "cell_type": "code",
   "execution_count": 5,
   "id": "bf2c01b1",
   "metadata": {},
   "outputs": [],
   "source": [
    "device = torch.device(\"cuda\" if torch.cuda.is_available() else \"cpu\")"
   ]
  },
  {
   "cell_type": "code",
   "execution_count": 6,
   "id": "9b00d0c9",
   "metadata": {},
   "outputs": [
    {
     "data": {
      "text/plain": [
       "mnistCNN(\n",
       "  (conv1): Conv2d(1, 6, kernel_size=(3, 3), stride=(1, 1))\n",
       "  (conv2): Conv2d(6, 16, kernel_size=(3, 3), stride=(1, 1))\n",
       "  (fc1): Linear(in_features=400, out_features=120, bias=True)\n",
       "  (fc2): Linear(in_features=120, out_features=84, bias=True)\n",
       "  (fc3): Linear(in_features=84, out_features=10, bias=True)\n",
       ")"
      ]
     },
     "execution_count": 6,
     "metadata": {},
     "output_type": "execute_result"
    }
   ],
   "source": [
    "model = mnistCNN()\n",
    "criterion = nn.NLLLoss()\n",
    "optimizer = optim.Adam(model.parameters(),lr=0.001)\n",
    "model.to(device)"
   ]
  },
  {
   "cell_type": "code",
   "execution_count": 7,
   "id": "f8be4829",
   "metadata": {},
   "outputs": [
    {
     "name": "stdout",
     "output_type": "stream",
     "text": [
      "54\n",
      "6\n",
      "864\n",
      "16\n",
      "48000\n",
      "120\n",
      "10080\n",
      "84\n",
      "840\n",
      "10\n",
      "Total parameters: 60074\n"
     ]
    }
   ],
   "source": [
    "total_params = 0\n",
    "for p in model.parameters():\n",
    "    total_params += p.numel()\n",
    "    print(p.numel())\n",
    "print('Total parameters:',total_params)"
   ]
  },
  {
   "cell_type": "code",
   "execution_count": 8,
   "id": "d4120bdf",
   "metadata": {},
   "outputs": [],
   "source": [
    "import time"
   ]
  },
  {
   "cell_type": "code",
   "execution_count": 9,
   "id": "4f9bc0fd",
   "metadata": {},
   "outputs": [
    {
     "name": "stdout",
     "output_type": "stream",
     "text": [
      "================================================== Epoch 0 ==================================\n",
      "Batch 1000 out of 5000: \t Loss: 1.0435616970062256 \t Accuracy: 85.93%\n",
      "Batch 2000 out of 5000: \t Loss: 0.2407795637845993 \t Accuracy: 90.69%\n",
      "Batch 3000 out of 5000: \t Loss: 0.013379109092056751 \t Accuracy: 92.52%\n",
      "Batch 4000 out of 5000: \t Loss: 0.015344488434493542 \t Accuracy: 93.62%\n",
      "Batch 5000 out of 5000: \t Loss: 0.006657543126493692 \t Accuracy: 94.38%\n",
      "Batch 6000 out of 5000: \t Loss: 0.15658287703990936 \t Accuracy: 94.87%\n",
      "\n",
      "\n",
      "================================================== Epoch 1 ==================================\n",
      "Batch 1000 out of 5000: \t Loss: 0.026912514120340347 \t Accuracy: 98.21%\n",
      "Batch 2000 out of 5000: \t Loss: 0.0003723484114743769 \t Accuracy: 98.15%\n",
      "Batch 3000 out of 5000: \t Loss: 0.002896849764510989 \t Accuracy: 98.19%\n",
      "Batch 4000 out of 5000: \t Loss: 0.037114467471838 \t Accuracy: 98.22%\n",
      "Batch 5000 out of 5000: \t Loss: 0.009718534536659718 \t Accuracy: 98.2%\n",
      "Batch 6000 out of 5000: \t Loss: 0.0009814223740249872 \t Accuracy: 98.17%\n",
      "\n",
      "\n",
      "================================================== Epoch 2 ==================================\n",
      "Batch 1000 out of 5000: \t Loss: 0.0019132489105686545 \t Accuracy: 98.69%\n",
      "Batch 2000 out of 5000: \t Loss: 0.000101872043160256 \t Accuracy: 98.69%\n",
      "Batch 3000 out of 5000: \t Loss: 0.32183313369750977 \t Accuracy: 98.55%\n",
      "Batch 4000 out of 5000: \t Loss: 4.800235547008924e-05 \t Accuracy: 98.55%\n",
      "Batch 5000 out of 5000: \t Loss: 6.917833525221795e-05 \t Accuracy: 98.59%\n",
      "Batch 6000 out of 5000: \t Loss: 0.0018241623183712363 \t Accuracy: 98.62%\n",
      "\n",
      "\n",
      "================================================== Epoch 3 ==================================\n",
      "Batch 1000 out of 5000: \t Loss: 0.013053247705101967 \t Accuracy: 98.89%\n",
      "Batch 2000 out of 5000: \t Loss: 0.0011401823721826077 \t Accuracy: 98.92%\n",
      "Batch 3000 out of 5000: \t Loss: 0.0017635102849453688 \t Accuracy: 98.89%\n",
      "Batch 4000 out of 5000: \t Loss: 0.0012652159202843904 \t Accuracy: 98.84%\n",
      "Batch 5000 out of 5000: \t Loss: 0.0011744380462914705 \t Accuracy: 98.88%\n",
      "Batch 6000 out of 5000: \t Loss: 0.000916053366381675 \t Accuracy: 98.9%\n",
      "\n",
      "\n",
      "================================================== Epoch 4 ==================================\n",
      "Batch 1000 out of 5000: \t Loss: 0.00026121202972717583 \t Accuracy: 99.24%\n",
      "Batch 2000 out of 5000: \t Loss: 0.2820185720920563 \t Accuracy: 99.12%\n",
      "Batch 3000 out of 5000: \t Loss: 5.416073327069171e-05 \t Accuracy: 99.1%\n",
      "Batch 4000 out of 5000: \t Loss: 0.010420816019177437 \t Accuracy: 99.12%\n",
      "Batch 5000 out of 5000: \t Loss: 8.424831321462989e-05 \t Accuracy: 99.06%\n",
      "Batch 6000 out of 5000: \t Loss: 0.013647617772221565 \t Accuracy: 99.05%\n",
      "\n",
      "\n",
      "Time: 85.9 seconds\n"
     ]
    }
   ],
   "source": [
    "start_time = time.time()\n",
    "\n",
    "epochs = 5\n",
    "train_losses = []\n",
    "test_losses = []\n",
    "train_correct = []\n",
    "test_correct = []\n",
    "\n",
    "for i in range(epochs):\n",
    "    print(f'================================================== Epoch {i} ==================================')\n",
    "    trn_corr = 0\n",
    "    tst_corr = 0\n",
    "    \n",
    "    # Train batch\n",
    "    for b, (X_train, y_train) in enumerate(train_loader):\n",
    "        X_train,y_train = X_train.to(device), y_train.to(device)\n",
    "        b+=1\n",
    "        \n",
    "        # Applying model and finding the loss\n",
    "        y_pred = model(X_train)\n",
    "        loss = criterion(y_pred, y_train)\n",
    " \n",
    "        # Grabbing number of correct predictions\n",
    "        predicted = torch.max(y_pred.data, 1)[1]\n",
    "        batch_corr = (predicted == y_train).sum()\n",
    "        trn_corr += batch_corr\n",
    "        \n",
    "        # Updating parameters\n",
    "        optimizer.zero_grad()\n",
    "        loss.backward()\n",
    "        optimizer.step()\n",
    "        \n",
    "        # Printing results every 1000 batches of each epoch\n",
    "        if b%1000 == 0:\n",
    "            print(f'Batch {b} out of 5000: \\t Loss: {loss} \\t Accuracy: {round(trn_corr.item()*100/(10*b),2)}%')\n",
    "        \n",
    "    train_losses.append(loss)\n",
    "    train_correct.append(trn_corr)\n",
    "    \n",
    "    # Test batches\n",
    "    with torch.no_grad():\n",
    "        for b, (X_test, y_test) in enumerate(test_loader):\n",
    "            X_test,y_test = X_test.to(device),y_test.to(device)\n",
    "\n",
    "            y_val = model(X_test)\n",
    "\n",
    "            predicted = torch.max(y_val.data, 1)[1] \n",
    "            tst_corr += (predicted == y_test).sum()\n",
    "            \n",
    "    loss = criterion(y_val, y_test)\n",
    "    test_losses.append(loss)\n",
    "    test_correct.append(tst_corr)\n",
    "    print('\\n')\n",
    "        \n",
    "print(f'Time: {round(time.time() - start_time,2)} seconds')          "
   ]
  },
  {
   "cell_type": "code",
   "execution_count": 20,
   "id": "6348c3d0",
   "metadata": {},
   "outputs": [],
   "source": [
    "train_acc = [t/600 for t in train_correct]\n",
    "test_acc = [t/100 for t in test_correct]"
   ]
  },
  {
   "cell_type": "code",
   "execution_count": 21,
   "id": "ba9eeb32",
   "metadata": {},
   "outputs": [
    {
     "data": {
      "text/plain": [
       "[tensor(94.8717),\n",
       " tensor(98.1700),\n",
       " tensor(98.6233),\n",
       " tensor(98.8967),\n",
       " tensor(99.0517)]"
      ]
     },
     "execution_count": 21,
     "metadata": {},
     "output_type": "execute_result"
    }
   ],
   "source": [
    "train_acc"
   ]
  },
  {
   "cell_type": "code",
   "execution_count": 22,
   "id": "68b1c345",
   "metadata": {},
   "outputs": [
    {
     "data": {
      "text/plain": [
       "[tensor(97.4400),\n",
       " tensor(98.3300),\n",
       " tensor(98.3600),\n",
       " tensor(98.7500),\n",
       " tensor(98.5500)]"
      ]
     },
     "execution_count": 22,
     "metadata": {},
     "output_type": "execute_result"
    }
   ],
   "source": [
    "test_acc"
   ]
  },
  {
   "cell_type": "code",
   "execution_count": 23,
   "id": "0b744132",
   "metadata": {},
   "outputs": [],
   "source": [
    "for i in range(len(train_acc)):\n",
    "    train_acc[i] = train_acc[i].cpu()\n",
    "for i in range(len(test_acc)):\n",
    "    test_acc[i] = test_acc[i].cpu()"
   ]
  },
  {
   "cell_type": "code",
   "execution_count": 24,
   "id": "339c7812",
   "metadata": {},
   "outputs": [],
   "source": [
    "for i in range(len(train_correct)):\n",
    "    train_correct[i] = train_correct[i].cpu()\n",
    "for i in range(len(test_correct)):\n",
    "    test_correct[i] = test_correct[i].cpu()"
   ]
  },
  {
   "cell_type": "code",
   "execution_count": 25,
   "id": "adf2a617",
   "metadata": {},
   "outputs": [],
   "source": [
    "for i in range(len(train_losses)):\n",
    "    train_losses[i] = train_losses[i].detach().cpu()\n",
    "for i in range(len(test_losses)):\n",
    "    test_losses[i] = test_losses[i].detach().cpu()"
   ]
  },
  {
   "cell_type": "code",
   "execution_count": 26,
   "id": "241f9beb",
   "metadata": {},
   "outputs": [
    {
     "name": "stdout",
     "output_type": "stream",
     "text": [
      "=================================== Train and Test metrics:Loss and accuracy =======================\n",
      "Epoch 0: Train Loss:0.16 Train Accuracy: 94.87 % \tTest Loss: 0.0 Test Accuracy: 97.44 % \n",
      "Epoch 1: Train Loss:0.0 Train Accuracy: 98.17 % \tTest Loss: 0.0 Test Accuracy: 98.33 % \n",
      "Epoch 2: Train Loss:0.0 Train Accuracy: 98.62 % \tTest Loss: 0.0 Test Accuracy: 98.36 % \n",
      "Epoch 3: Train Loss:0.0 Train Accuracy: 98.9 % \tTest Loss: 0.0 Test Accuracy: 98.75 % \n",
      "Epoch 4: Train Loss:0.01 Train Accuracy: 99.05 % \tTest Loss: 0.0 Test Accuracy: 98.55 % \n"
     ]
    }
   ],
   "source": [
    "print('=================================== Train and Test metrics:Loss and accuracy =======================')\n",
    "for i in range(epochs):\n",
    "    print(f'Epoch {i}: Train Loss:{round(train_losses[i].item(),2)} Train Accuracy: {round(train_acc[i].item(),2)} % \\tTest Loss: {round(test_losses[i].item(),2)} Test Accuracy: {round(test_acc[i].item(),2)} % ')"
   ]
  },
  {
   "cell_type": "code",
   "execution_count": 27,
   "id": "6a7b1b0a",
   "metadata": {},
   "outputs": [
    {
     "data": {
      "text/plain": [
       "<matplotlib.legend.Legend at 0x1afeabf2d90>"
      ]
     },
     "execution_count": 27,
     "metadata": {},
     "output_type": "execute_result"
    },
    {
     "data": {
      "image/png": "[encoded data removed]",
      "text/plain": [
       "<Figure size 432x288 with 1 Axes>"
      ]
     },
     "metadata": {
      "needs_background": "light"
     },
     "output_type": "display_data"
    }
   ],
   "source": [
    "plt.plot(train_losses, label='training loss')\n",
    "plt.plot(test_losses, label='validation loss')\n",
    "plt.title('Loss at the end of each epoch')\n",
    "plt.legend()"
   ]
  },
  {
   "cell_type": "code",
   "execution_count": 28,
   "id": "6bfd8e29",
   "metadata": {},
   "outputs": [
    {
     "data": {
      "text/plain": [
       "<matplotlib.legend.Legend at 0x1afeac95af0>"
      ]
     },
     "execution_count": 28,
     "metadata": {},
     "output_type": "execute_result"
    },
    {
     "data": {
      "image/png": "[encoded data removed]",
      "text/plain": [
       "<Figure size 432x288 with 1 Axes>"
      ]
     },
     "metadata": {
      "needs_background": "light"
     },
     "output_type": "display_data"
    }
   ],
   "source": [
    "plt.plot([t/600 for t in train_correct], label='training accuracy')\n",
    "plt.plot([t/100 for t in test_correct], label='validation accuracy')\n",
    "plt.title('Accuracy at the end of each epoch')\n",
    "plt.legend()"
   ]
  },
  {
   "cell_type": "code",
   "execution_count": 30,
   "id": "52f2112b",
   "metadata": {},
   "outputs": [],
   "source": [
    "model.eval()\n",
    "example = torch.rand(1,1,28,28).cuda()\n",
    "traced_script_module = torch.jit.trace(model,example)"
   ]
  },
  {
   "cell_type": "code",
   "execution_count": 31,
   "id": "8b9aee72",
   "metadata": {},
   "outputs": [],
   "source": [
    "traced_script_module.save(\"ts_mnist.pt\")"
   ]
  },
  {
   "cell_type": "code",
   "execution_count": 32,
   "id": "b15c8855",
   "metadata": {},
   "outputs": [],
   "source": [
    "ts_model = torch.jit.load(\"ts_mnist.pt\")"
   ]
  },
  {
   "cell_type": "code",
   "execution_count": 5,
   "id": "b24b97e9",
   "metadata": {},
   "outputs": [],
   "source": [
    "data_iter = iter(test_loader)\n",
    "images,labels = data_iter.next()"
   ]
  },
  {
   "cell_type": "code",
   "execution_count": 56,
   "id": "b12351ff",
   "metadata": {},
   "outputs": [
    {
     "data": {
      "text/plain": [
       "<matplotlib.image.AxesImage at 0x1b008396400>"
      ]
     },
     "execution_count": 56,
     "metadata": {},
     "output_type": "execute_result"
    },
    {
     "data": {
      "image/png": "[encoded data removed]",
      "text/plain": [
       "<Figure size 432x288 with 1 Axes>"
      ]
     },
     "metadata": {
      "needs_background": "light"
     },
     "output_type": "display_data"
    }
   ],
   "source": [
    "my_index = 1\n",
    "plt.imshow(images[my_index].reshape(28,28),cmap='gray')"
   ]
  },
  {
   "cell_type": "code",
   "execution_count": 57,
   "id": "a33a8649",
   "metadata": {},
   "outputs": [],
   "source": [
    "my_image = images[my_index]"
   ]
  },
  {
   "cell_type": "code",
   "execution_count": 58,
   "id": "52135935",
   "metadata": {},
   "outputs": [],
   "source": [
    "my_image = torch.unsqueeze(my_image,0)"
   ]
  },
  {
   "cell_type": "code",
   "execution_count": 59,
   "id": "8fac37d2",
   "metadata": {},
   "outputs": [
    {
     "data": {
      "text/plain": [
       "torch.Size([1, 1, 28, 28])"
      ]
     },
     "execution_count": 59,
     "metadata": {},
     "output_type": "execute_result"
    }
   ],
   "source": [
    "my_image.shape"
   ]
  },
  {
   "cell_type": "code",
   "execution_count": 60,
   "id": "9d31c4ba",
   "metadata": {},
   "outputs": [],
   "source": [
    "result = ts_model(my_image.cuda())"
   ]
  },
  {
   "cell_type": "code",
   "execution_count": 61,
   "id": "51d831e3",
   "metadata": {
    "scrolled": true
   },
   "outputs": [
    {
     "name": "stdout",
     "output_type": "stream",
     "text": [
      "Choosen value: 2\n"
     ]
    }
   ],
   "source": [
    "prediction = result.argmax()\n",
    "print('Choosen value:',prediction.item())"
   ]
  },
  {
   "cell_type": "code",
   "execution_count": 62,
   "id": "a27cc6d3",
   "metadata": {},
   "outputs": [
    {
     "data": {
      "text/plain": [
       "tensor([[-2.1918e+01, -1.3275e+01, -1.9073e-06, -2.3876e+01, -2.1100e+01,\n",
       "         -2.8660e+01, -2.7281e+01, -1.5506e+01, -2.3247e+01, -2.3988e+01]],\n",
       "       device='cuda:0', grad_fn=<DifferentiableGraphBackward>)"
      ]
     },
     "execution_count": 62,
     "metadata": {},
     "output_type": "execute_result"
    }
   ],
   "source": [
    "result"
   ]
  },
  {
   "cell_type": "code",
   "execution_count": 31,
   "id": "9ccd57b3",
   "metadata": {},
   "outputs": [],
   "source": [
    "import math"
   ]
  },
  {
   "cell_type": "code",
   "execution_count": 63,
   "id": "99ec7aa8",
   "metadata": {},
   "outputs": [],
   "source": [
    "prob = math.exp(result[0][prediction.item()].item())"
   ]
  },
  {
   "cell_type": "code",
   "execution_count": 64,
   "id": "76837543",
   "metadata": {},
   "outputs": [
    {
     "name": "stdout",
     "output_type": "stream",
     "text": [
      "Predicted number: 2\n",
      "Confidence level: 100.0%\n"
     ]
    }
   ],
   "source": [
    "print(f'Predicted number: {prediction.item()}')\n",
    "print(f'Confidence level: {round(100*prob,2)}%')"
   ]
  },
  {
   "cell_type": "code",
   "execution_count": null,
   "id": "0e7c33dd",
   "metadata": {},
   "outputs": [],
   "source": []
  },
  {
   "cell_type": "code",
   "execution_count": null,
   "id": "e58d9930",
   "metadata": {},
   "outputs": [],
   "source": []
  },
  {
   "cell_type": "code",
   "execution_count": null,
   "id": "63dacf9d",
   "metadata": {},
   "outputs": [],
   "source": []
  },
  {
   "cell_type": "code",
   "execution_count": 4,
   "id": "3d01c607",
   "metadata": {},
   "outputs": [],
   "source": [
    "# Loading in autoencoder model\n",
    "aeModel = torch.jit.load('ts_autoencode.pt')\n",
    "# Loading in mnist model\n",
    "mnistModel = torch.jit.load('ts_mnist.pt')"
   ]
  },
  {
   "cell_type": "code",
   "execution_count": 6,
   "id": "588c86a8",
   "metadata": {},
   "outputs": [
    {
     "data": {
      "text/plain": [
       "<matplotlib.image.AxesImage at 0x1ee979ebdf0>"
      ]
     },
     "execution_count": 6,
     "metadata": {},
     "output_type": "execute_result"
    },
    {
     "data": {
      "image/png": "[encoded data removed]",
      "text/plain": [
       "<Figure size 432x288 with 1 Axes>"
      ]
     },
     "metadata": {
      "needs_background": "light"
     },
     "output_type": "display_data"
    }
   ],
   "source": [
    "my_index = 1\n",
    "plt.imshow(images[my_index].reshape(28,28),cmap='gray')"
   ]
  },
  {
   "cell_type": "code",
   "execution_count": 41,
   "id": "ec2d32f9",
   "metadata": {},
   "outputs": [],
   "source": [
    "noisey = images[my_index] + torch.randn(images[0].size()) * 0.05 + 0."
   ]
  },
  {
   "cell_type": "code",
   "execution_count": 42,
   "id": "d2856ed6",
   "metadata": {},
   "outputs": [
    {
     "data": {
      "text/plain": [
       "<matplotlib.image.AxesImage at 0x1eeaabe9610>"
      ]
     },
     "execution_count": 42,
     "metadata": {},
     "output_type": "execute_result"
    },
    {
     "data": {
      "image/png": "[encoded data removed]",
      "text/plain": [
       "<Figure size 432x288 with 1 Axes>"
      ]
     },
     "metadata": {
      "needs_background": "light"
     },
     "output_type": "display_data"
    }
   ],
   "source": [
    "plt.imshow(noisey.reshape(28,28),cmap='gray')"
   ]
  },
  {
   "cell_type": "code",
   "execution_count": 43,
   "id": "cacc2032",
   "metadata": {},
   "outputs": [
    {
     "name": "stdout",
     "output_type": "stream",
     "text": [
      "torch.Size([1, 1, 28, 28])\n"
     ]
    }
   ],
   "source": [
    "# Running image through autoencoder\n",
    "noisey = torch.unsqueeze(noisey,0)\n",
    "print(noisey.shape)"
   ]
  },
  {
   "cell_type": "code",
   "execution_count": 44,
   "id": "9bfeee80",
   "metadata": {},
   "outputs": [],
   "source": [
    "ae_output = aeModel(noisey)"
   ]
  },
  {
   "cell_type": "code",
   "execution_count": 45,
   "id": "69540e7f",
   "metadata": {},
   "outputs": [
    {
     "data": {
      "text/plain": [
       "<matplotlib.image.AxesImage at 0x1eeaaca9910>"
      ]
     },
     "execution_count": 45,
     "metadata": {},
     "output_type": "execute_result"
    },
    {
     "data": {
      "image/png": "[encoded data removed]",
      "text/plain": [
       "<Figure size 432x288 with 1 Axes>"
      ]
     },
     "metadata": {
      "needs_background": "light"
     },
     "output_type": "display_data"
    }
   ],
   "source": [
    "plt.imshow(ae_output.reshape(28,28).detach().numpy(),cmap='gray')"
   ]
  },
  {
   "cell_type": "code",
   "execution_count": 46,
   "id": "65eb8743",
   "metadata": {},
   "outputs": [],
   "source": [
    "img_difference = abs(torch.subtract(noisey,ae_output))"
   ]
  },
  {
   "cell_type": "code",
   "execution_count": 47,
   "id": "ec20d534",
   "metadata": {},
   "outputs": [
    {
     "name": "stdout",
     "output_type": "stream",
     "text": [
      "0.06572245806455612\n"
     ]
    }
   ],
   "source": [
    "print(img_difference.mean().item())\n",
    "if img_difference.mean().item() > 0.1:\n",
    "    print('Too much noise. Not running through MNIST classifier')\n",
    "else:\n",
    "    results = mnistModel(ae_output.cuda())"
   ]
  },
  {
   "cell_type": "code",
   "execution_count": 48,
   "id": "bea0965a",
   "metadata": {},
   "outputs": [
    {
     "data": {
      "text/plain": [
       "tensor([[-1.9615e+01, -1.3033e+01, -2.9802e-06, -2.1487e+01, -1.9385e+01,\n",
       "         -2.6454e+01, -2.5334e+01, -1.4062e+01, -2.1022e+01, -2.1715e+01]],\n",
       "       device='cuda:0', grad_fn=<DifferentiableGraphBackward>)"
      ]
     },
     "execution_count": 48,
     "metadata": {},
     "output_type": "execute_result"
    }
   ],
   "source": [
    "results"
   ]
  },
  {
   "cell_type": "code",
   "execution_count": 49,
   "id": "114aaacc",
   "metadata": {},
   "outputs": [
    {
     "name": "stdout",
     "output_type": "stream",
     "text": [
      "Predicted number: 2\n",
      "Confidence level: 100.0%\n"
     ]
    }
   ],
   "source": [
    "prob = math.exp(results[0][results.argmax().item()].item())\n",
    "\n",
    "print(f'Predicted number: {results.argmax().item()}')\n",
    "print(f'Confidence level: {round(100*prob,2)}%')"
   ]
  },
  {
   "cell_type": "code",
   "execution_count": null,
   "id": "3cfd0dee",
   "metadata": {},
   "outputs": [],
   "source": []
  }
 ],
 "metadata": {
  "kernelspec": {
   "display_name": "Python 3",
   "language": "python",
   "name": "python3"
  },
  "language_info": {
   "codemirror_mode": {
    "name": "ipython",
    "version": 3
   },
   "file_extension": ".py",
   "mimetype": "text/x-python",
   "name": "python",
   "nbconvert_exporter": "python",
   "pygments_lexer": "ipython3",
   "version": "3.8.10"
  }
 },
 "nbformat": 4,
 "nbformat_minor": 5
}
